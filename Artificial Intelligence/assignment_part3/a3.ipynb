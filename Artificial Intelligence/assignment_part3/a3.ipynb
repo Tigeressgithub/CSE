{
 "cells": [
  {
   "cell_type": "code",
   "execution_count": 3,
   "id": "0ce75644",
   "metadata": {},
   "outputs": [
    {
     "name": "stdout",
     "output_type": "stream",
     "text": [
      "0.1768919227217041\n"
     ]
    }
   ],
   "source": [
    "import torch\n",
    "import torch.nn as nn\n",
    "import numpy as np\n",
    "\n",
    "\n",
    "class Action_Conditioned_FF(nn.Module):\n",
    "    def __init__(self,input_size=6,hidden_size=4,output_size=1):\n",
    "# STUDENTS: __init__() must initiatize nn.Module and define your network's\n",
    "# custom architecture\n",
    "        super(Action_Conditioned_FF,self).__init__()\n",
    "        self.input_to_hidden=nn.Linear(input_size,hidden_size)\n",
    "        self.nonlinear_activation = nn.Sigmoid()\n",
    "        self.hidden_to_output = nn.Linear(hidden_size,output_size)\n",
    "        self.loss_function = nn.MSELoss()\n",
    "        self.total_loss = list()\n",
    "    def forward(self, input):\n",
    "# STUDENTS: forward() must complete a single forward pass through your network\n",
    "# and return the output which should be a tensor\n",
    "        hidden = self.input_to_hidden(input)\n",
    "        hidden = self.nonlinear_activation(hidden)\n",
    "        output = self.hidden_to_output(hidden)\n",
    "        return output\n",
    "\n",
    "\n",
    "    def evaluate(self, model, test_loader, loss_function):\n",
    "# STUDENTS: evaluate() must return the loss (a value, not a tensor) over your testing dataset. Keep in\n",
    "# mind that we do not need to keep track of any gradients while evaluating the\n",
    "# model. loss_function will be a PyTorch loss function which takes as argument the model's\n",
    "# output and the desired output.\n",
    "        #input = torch.from_numpy(test_loader['input'])\n",
    "        losses = list()\n",
    "        y_list = list()\n",
    "        for t in test_loader:\n",
    "            X = t['input']\n",
    "            X = torch.from_numpy(X)\n",
    "            y = model(X)\n",
    "            y = y.float()\n",
    "            \n",
    "            y_hat = torch.tensor(t['label'])\n",
    "            loss = loss_function(input=y,target=y_hat)\n",
    "            #input = torch.randn(3, requires_grad=True)\n",
    "            #target = torch.empty(3).random_(2)\n",
    "            #loss = loss_function(input.reshape(-1),target.reshape(-1))\n",
    "            losses.append(loss.item())\n",
    "        losses=sum(losses)/len(losses)\n",
    "        return losses\n",
    "\n",
    "def main():\n",
    "    model = Action_Conditioned_FF()\n",
    "    model.double()\n",
    "    data = np.genfromtxt(r'C:\\Users\\MV\\Desktop\\CSE 571\\assignment_part3\\saved\\savedtraining_data.csv', delimiter=',')\n",
    "    temp = list()\n",
    "    for d in data:\n",
    "        row = {'input': d[0:6],'label':d[6]}\n",
    "        temp.append(row)\n",
    "    \n",
    "    r = model.evaluate(model=model, test_loader=temp,loss_function= model.loss_function)\n",
    "        \n",
    "        \n",
    "if __name__ == '__main__':\n",
    "    main()\n"
   ]
  },
  {
   "cell_type": "code",
   "execution_count": null,
   "id": "a90bd467",
   "metadata": {},
   "outputs": [],
   "source": [
    "conda install torch"
   ]
  },
  {
   "cell_type": "code",
   "execution_count": null,
   "id": "32f31d7c",
   "metadata": {},
   "outputs": [],
   "source": []
  }
 ],
 "metadata": {
  "kernelspec": {
   "display_name": "Python 3 (ipykernel)",
   "language": "python",
   "name": "python3"
  },
  "language_info": {
   "codemirror_mode": {
    "name": "ipython",
    "version": 3
   },
   "file_extension": ".py",
   "mimetype": "text/x-python",
   "name": "python",
   "nbconvert_exporter": "python",
   "pygments_lexer": "ipython3",
   "version": "3.8.8"
  }
 },
 "nbformat": 4,
 "nbformat_minor": 5
}
